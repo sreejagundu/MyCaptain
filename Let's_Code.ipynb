{
 "cells": [
  {
   "cell_type": "code",
   "execution_count": 4,
   "metadata": {},
   "outputs": [
    {
     "name": "stdout",
     "output_type": "stream",
     "text": [
      "Hello World!\n"
     ]
    }
   ],
   "source": [
    "# Displaying 'Hello World!' on the screen\n",
    "# print is a Python defined default function\n",
    "\n",
    "print('Hello World!')"
   ]
  },
 
