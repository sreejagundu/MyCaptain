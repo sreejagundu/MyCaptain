{
 "cells": [
  {
   "cell_type": "code",
   "execution_count": 3,
   "metadata": {},
   "outputs": [
    {
     "name": "stdout",
     "output_type": "stream",
     "text": [
      "Enter numbers for list1:12,-7,5,64,-14\n",
      "list1 =  [12, -7, 5, 64, -14]\n",
      "12,5,64\n",
      "Enter numbers for list2:12,14,-95,3\n",
      "list2 =  [12, 14, -95, 3]\n",
      "[12, 14, 3]\n"
     ]
    }
   ],
   "source": [
    "a = list(map(int,input('Enter numbers for list1:').split(',')))\n",
    "print('list1 = ',a)\n",
    "c=[]\n",
    "\n",
    "for i in a:\n",
    "    if i>=0:\n",
    "        c.append(i)\n",
    "for i in range(len(c)):\n",
    "    if i==(len(c)-1):\n",
    "        print(c[i])\n",
    "    else:\n",
    "        print(c[i],end=',')\n",
    "\n",
    "a = list(map(int,input('Enter numbers for list2:').split(',')))\n",
    "print('list2 = ',a)\n",
    "c=[]\n",
    "for i in a:\n",
    "    if i>=0:\n",
    "        c.append(i)\n",
    "print(c)"
   ]
  }
 ],
 "metadata": {
  "kernelspec": {
   "display_name": "Python 3",
   "language": "python",
   "name": "python3"
  },
  "language_info": {
   "codemirror_mode": {
    "name": "ipython",
    "version": 3
   },
   "file_extension": ".py",
   "mimetype": "text/x-python",
   "name": "python",
   "nbconvert_exporter": "python",
   "pygments_lexer": "ipython3",
   "version": "3.7.6"
  }
 },
 "nbformat": 4,
 "nbformat_minor": 4
}
